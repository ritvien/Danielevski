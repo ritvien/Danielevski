{
 "cells": [
  {
   "cell_type": "code",
   "execution_count": 1,
   "id": "ab049f45",
   "metadata": {
    "ExecuteTime": {
     "end_time": "2024-05-03T08:34:59.419359Z",
     "start_time": "2024-05-03T08:34:59.403251Z"
    }
   },
   "outputs": [],
   "source": [
    "import numpy as np"
   ]
  },
  {
   "attachments": {
    "image.png": {
     "image/png": "[encoded data removed]"
    }
   },
   "cell_type": "markdown",
   "id": "f4b52f83",
   "metadata": {},
   "source": [
    "![image.png](attachment:image.png)"
   ]
  },
  {
   "cell_type": "code",
   "execution_count": 107,
   "id": "706ac6cb",
   "metadata": {
    "ExecuteTime": {
     "end_time": "2024-05-06T02:15:39.499955Z",
     "start_time": "2024-05-06T02:15:39.485789Z"
    }
   },
   "outputs": [],
   "source": [
    "B = np.array([[1,2,3,4],\n",
    "             [2,1,2,3],\n",
    "             [3,2,1,2],\n",
    "             [4,3,2,1]])"
   ]
  },
  {
   "cell_type": "code",
   "execution_count": 87,
   "id": "06e72817",
   "metadata": {
    "ExecuteTime": {
     "end_time": "2024-05-06T01:55:26.857611Z",
     "start_time": "2024-05-06T01:55:26.844609Z"
    }
   },
   "outputs": [],
   "source": [
    "A = np.array([[2,1,0],\n",
    "             [1,3,1],\n",
    "             [0,1,2]])\n"
   ]
  },
  {
   "cell_type": "code",
   "execution_count": 12,
   "id": "5d820b0b",
   "metadata": {
    "ExecuteTime": {
     "end_time": "2024-05-03T09:22:24.274951Z",
     "start_time": "2024-05-03T09:22:24.267256Z"
    }
   },
   "outputs": [
    {
     "data": {
      "text/plain": [
       "3"
      ]
     },
     "execution_count": 12,
     "metadata": {},
     "output_type": "execute_result"
    }
   ],
   "source": [
    "np.shape(A)[0]"
   ]
  },
  {
   "cell_type": "markdown",
   "id": "2d1ab49b",
   "metadata": {},
   "source": [
    "# Eigenvalues"
   ]
  },
  {
   "cell_type": "code",
   "execution_count": 217,
   "id": "f2eee317",
   "metadata": {
    "ExecuteTime": {
     "end_time": "2024-05-06T04:18:40.161691Z",
     "start_time": "2024-05-06T04:18:40.143697Z"
    }
   },
   "outputs": [],
   "source": [
    "def Danielevski(A):\n",
    "    n = np.shape(A)[0]\n",
    "    list_M = []\n",
    "    for i in range(n-1,0,-1):\n",
    "        M = np.eye(n)\n",
    "        M_inverse = np.eye(n)\n",
    "        \n",
    "        M[i-1,:] = A[i,:]\n",
    "        list_M.append(M)\n",
    "        if A[i,i-1] != 0:\n",
    "            for j in range(n):\n",
    "                if j == i-1:\n",
    "                    M_inverse[i-1,j] = 1/A[i,i-1]\n",
    "                else:\n",
    "                    M_inverse[i-1,j] = -A[i,j]/A[i,i-1]\n",
    "            A = M@A@M_inverse\n",
    "            A = np.where(np.abs(A) < 1e-10, 0, A)\n",
    "        elif sum(abs(A[i,:i])) == 0:\n",
    "            print(A[i,i])\n",
    "            A = Danielevski(A[:n,:n])\n",
    "        print(f'A{n-i}\\n={A}\\n---------------------------------------')\n",
    "    coefficients = ((-1)**n)*np.insert(-A[0,:], 0, 1)\n",
    "    print(f'Pt đặc trưng: p(λ) = {coefficients} = 0 ')\n",
    "    return np.roots(coefficients),list_M"
   ]
  },
  {
   "cell_type": "code",
   "execution_count": 210,
   "id": "89369a90",
   "metadata": {
    "ExecuteTime": {
     "end_time": "2024-05-06T04:06:19.942247Z",
     "start_time": "2024-05-06T04:06:19.935504Z"
    }
   },
   "outputs": [],
   "source": [
    "def test_Eigenvalues(A,eva_array):\n",
    "    n = np.shape(A)[0]\n",
    "    is_true = np.zeros(n)\n",
    "    for i in range(len(eva_array)):\n",
    "        zero = np.linalg.det(A-eva_array[i]*np.eye(n))\n",
    "        zero = zero if abs(zero) >= 1e-5 else 0\n",
    "        if zero == 0:\n",
    "            is_true[i] = 1\n",
    "        else:\n",
    "            print(zero)\n",
    "    return is_true"
   ]
  },
  {
   "cell_type": "code",
   "execution_count": 197,
   "id": "fee89017",
   "metadata": {
    "ExecuteTime": {
     "end_time": "2024-05-06T03:59:15.443326Z",
     "start_time": "2024-05-06T03:59:15.431106Z"
    }
   },
   "outputs": [],
   "source": [
    "test = np.array([[6.1,1.0,5.1],\n",
    "                 [1.0,0.5,6.1],\n",
    "                 [5.1,6.1,7.2]])"
   ]
  },
  {
   "cell_type": "code",
   "execution_count": 226,
   "id": "ee9fb500",
   "metadata": {
    "ExecuteTime": {
     "end_time": "2024-05-06T04:29:06.604226Z",
     "start_time": "2024-05-06T04:29:06.591015Z"
    }
   },
   "outputs": [
    {
     "name": "stdout",
     "output_type": "stream",
     "text": [
      "A1\n",
      "=[[ 5.26393443  0.16393443  3.91967213]\n",
      " [30.39606557  8.53606557 53.60032787]\n",
      " [ 0.          1.          0.        ]]\n",
      "---------------------------------------\n",
      "A2\n",
      "=[[  13.8     13.65  -163.006]\n",
      " [   1.       0.       0.   ]\n",
      " [   0.       1.       0.   ]]\n",
      "---------------------------------------\n",
      "Pt đặc trưng: p(λ) = [  -1.      13.8     13.65  -163.006] = 0 \n"
     ]
    },
    {
     "data": {
      "text/plain": [
       "array([13.94037758, -3.49042417,  3.35004659])"
      ]
     },
     "execution_count": 226,
     "metadata": {},
     "output_type": "execute_result"
    }
   ],
   "source": [
    "eva_array,list_M = Danielevski(test)\n",
    "eva_array"
   ]
  },
  {
   "cell_type": "code",
   "execution_count": 211,
   "id": "594c9689",
   "metadata": {
    "ExecuteTime": {
     "end_time": "2024-05-06T04:06:22.075280Z",
     "start_time": "2024-05-06T04:06:22.062980Z"
    },
    "scrolled": true
   },
   "outputs": [
    {
     "data": {
      "text/plain": [
       "array([1., 1., 1.])"
      ]
     },
     "execution_count": 211,
     "metadata": {},
     "output_type": "execute_result"
    }
   ],
   "source": [
    "test_Eigenvalues(test,np.array([13.94037758, -3.49042417,  3.35004659]))"
   ]
  },
  {
   "cell_type": "code",
   "execution_count": 224,
   "id": "93564813",
   "metadata": {
    "ExecuteTime": {
     "end_time": "2024-05-06T04:28:44.490423Z",
     "start_time": "2024-05-06T04:28:44.479421Z"
    }
   },
   "outputs": [
    {
     "name": "stdout",
     "output_type": "stream",
     "text": [
      "A1\n",
      "=[[ 2.  1. -2.]\n",
      " [ 1.  5. -5.]\n",
      " [ 0.  1.  0.]]\n",
      "---------------------------------------\n",
      "A2\n",
      "=[[  7. -14.   8.]\n",
      " [  1.   0.   0.]\n",
      " [  0.   1.   0.]]\n",
      "---------------------------------------\n",
      "Pt đặc trưng: p(λ) = [ -1.   7. -14.   8.] = 0 \n"
     ]
    },
    {
     "data": {
      "text/plain": [
       "array([4., 2., 1.])"
      ]
     },
     "execution_count": 224,
     "metadata": {},
     "output_type": "execute_result"
    }
   ],
   "source": [
    "eva_array,list_M = Danielevski(A)\n",
    "eva_array"
   ]
  },
  {
   "cell_type": "code",
   "execution_count": 214,
   "id": "a1ca89a8",
   "metadata": {
    "ExecuteTime": {
     "end_time": "2024-05-06T04:06:34.051225Z",
     "start_time": "2024-05-06T04:06:34.038071Z"
    }
   },
   "outputs": [
    {
     "data": {
      "text/plain": [
       "array([1., 1., 1.])"
      ]
     },
     "execution_count": 214,
     "metadata": {},
     "output_type": "execute_result"
    }
   ],
   "source": [
    "test_Eigenvalues(A,np.array([4., 2., 1.]))"
   ]
  },
  {
   "cell_type": "markdown",
   "id": "3a4246ab",
   "metadata": {},
   "source": [
    "# Eigenvectors"
   ]
  },
  {
   "cell_type": "code",
   "execution_count": 223,
   "id": "5338ce72",
   "metadata": {
    "ExecuteTime": {
     "end_time": "2024-05-06T04:28:19.093934Z",
     "start_time": "2024-05-06T04:28:19.079759Z"
    }
   },
   "outputs": [],
   "source": [
    "def Danielevski_vector(A,eva_array,list_M):\n",
    "    M = list_M[-1]\n",
    "    list_vectors = []\n",
    "    for matrix in reversed(list_M[:-1]):\n",
    "        M = M@matrix\n",
    "    M = np.transpose(M)\n",
    "    \n",
    "    for eigenvalue in eva_array:\n",
    "        mat_eigenvalue = np.array([eigenvalue ** i for i in range(np.shape(M)[0]-1, -1, -1)])\n",
    "        x = M@mat_eigenvalue\n",
    "        list_vectors.append(x)\n",
    "    return list_vectors"
   ]
  },
  {
   "cell_type": "code",
   "execution_count": 225,
   "id": "5c50932e",
   "metadata": {
    "ExecuteTime": {
     "end_time": "2024-05-06T04:28:46.289016Z",
     "start_time": "2024-05-06T04:28:46.263812Z"
    }
   },
   "outputs": [
    {
     "data": {
      "text/plain": [
       "[array([16., 84., 89.]), array([ 4., 22., 25.]), array([1., 6., 8.])]"
      ]
     },
     "execution_count": 225,
     "metadata": {},
     "output_type": "execute_result"
    }
   ],
   "source": [
    "Danielevski_vector(A,eva_array,list_M)"
   ]
  },
  {
   "cell_type": "code",
   "execution_count": 227,
   "id": "1e32ef4b",
   "metadata": {
    "ExecuteTime": {
     "end_time": "2024-05-06T04:29:09.316551Z",
     "start_time": "2024-05-06T04:29:09.302551Z"
    }
   },
   "outputs": [
    {
     "data": {
      "text/plain": [
       "[array([14438.21793453, 10204.01429596, 22461.45537083]),\n",
       " array([ 882.89252595,  613.08039144, 1377.65192827]),\n",
       " array([ 846.78773952,  604.80711261, 1316.4171009 ])]"
      ]
     },
     "execution_count": 227,
     "metadata": {},
     "output_type": "execute_result"
    }
   ],
   "source": [
    "Danielevski_vector(test,eva_array,list_M)"
   ]
  },
  {
   "cell_type": "code",
   "execution_count": null,
   "id": "da7039c8",
   "metadata": {},
   "outputs": [],
   "source": []
  }
 ],
 "metadata": {
  "kernelspec": {
   "display_name": "Python (Hoang)",
   "language": "python",
   "name": "hoangnguyen"
  },
  "language_info": {
   "codemirror_mode": {
    "name": "ipython",
    "version": 3
   },
   "file_extension": ".py",
   "mimetype": "text/x-python",
   "name": "python",
   "nbconvert_exporter": "python",
   "pygments_lexer": "ipython3",
   "version": "3.8.18"
  },
  "toc": {
   "base_numbering": 1,
   "nav_menu": {},
   "number_sections": true,
   "sideBar": true,
   "skip_h1_title": false,
   "title_cell": "Table of Contents",
   "title_sidebar": "Contents",
   "toc_cell": false,
   "toc_position": {
    "height": "calc(100% - 180px)",
    "left": "10px",
    "top": "150px",
    "width": "384px"
   },
   "toc_section_display": true,
   "toc_window_display": true
  },
  "varInspector": {
   "cols": {
    "lenName": 16,
    "lenType": 16,
    "lenVar": 40
   },
   "kernels_config": {
    "python": {
     "delete_cmd_postfix": "",
     "delete_cmd_prefix": "del ",
     "library": "var_list.py",
     "varRefreshCmd": "print(var_dic_list())"
    },
    "r": {
     "delete_cmd_postfix": ") ",
     "delete_cmd_prefix": "rm(",
     "library": "var_list.r",
     "varRefreshCmd": "cat(var_dic_list()) "
    }
   },
   "types_to_exclude": [
    "module",
    "function",
    "builtin_function_or_method",
    "instance",
    "_Feature"
   ],
   "window_display": false
  }
 },
 "nbformat": 4,
 "nbformat_minor": 5
}
